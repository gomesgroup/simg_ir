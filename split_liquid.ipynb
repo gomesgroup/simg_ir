{
 "cells": [
  {
   "cell_type": "code",
   "execution_count": 3,
   "metadata": {},
   "outputs": [],
   "source": [
    "import torch\n",
    "import os"
   ]
  },
  {
   "cell_type": "code",
   "execution_count": 5,
   "metadata": {},
   "outputs": [
    {
     "name": "stderr",
     "output_type": "stream",
     "text": [
      "/tmp/ipykernel_3386893/3960804886.py:3: FutureWarning: You are using `torch.load` with `weights_only=False` (the current default value), which uses the default pickle module implicitly. It is possible to construct malicious pickle data which will execute arbitrary code during unpickling (See https://github.com/pytorch/pytorch/blob/main/SECURITY.md#untrusted-models for more details). In a future release, the default value for `weights_only` will be flipped to `True`. This limits the functions that could be executed during unpickling. Arbitrary objects will no longer be allowed to be loaded via this mode unless they are explicitly allowlisted by the user via `torch.serialization.add_safe_globals`. We recommend you start setting `weights_only=True` for any use case where you don't have full control of the loaded file. Please open an issue on GitHub for any issues related to this experimental feature.\n",
      "  gas_graphs = torch.load(os.path.join(dir, \"gas_649_max_sigma5_int\", \"graphs.pt\"))\n",
      "/tmp/ipykernel_3386893/3960804886.py:4: FutureWarning: You are using `torch.load` with `weights_only=False` (the current default value), which uses the default pickle module implicitly. It is possible to construct malicious pickle data which will execute arbitrary code during unpickling (See https://github.com/pytorch/pytorch/blob/main/SECURITY.md#untrusted-models for more details). In a future release, the default value for `weights_only` will be flipped to `True`. This limits the functions that could be executed during unpickling. Arbitrary objects will no longer be allowed to be loaded via this mode unless they are explicitly allowlisted by the user via `torch.serialization.add_safe_globals`. We recommend you start setting `weights_only=True` for any use case where you don't have full control of the loaded file. Please open an issue on GitHub for any issues related to this experimental feature.\n",
      "  liquid_graphs = torch.load(os.path.join(dir, \"liquid_649_max_sigma5_int\", \"graphs.pt\"))\n"
     ]
    }
   ],
   "source": [
    "dir = \"data/datasets/\"\n",
    "\n",
    "gas_graphs = torch.load(os.path.join(dir, \"gas_649_max_sigma5_int\", \"graphs.pt\"))\n",
    "liquid_graphs = torch.load(os.path.join(dir, \"liquid_649_max_sigma5_int\", \"graphs.pt\"))"
   ]
  },
  {
   "cell_type": "code",
   "execution_count": 17,
   "metadata": {},
   "outputs": [
    {
     "name": "stderr",
     "output_type": "stream",
     "text": [
      "/tmp/ipykernel_3386893/449618677.py:5: FutureWarning: You are using `torch.load` with `weights_only=False` (the current default value), which uses the default pickle module implicitly. It is possible to construct malicious pickle data which will execute arbitrary code during unpickling (See https://github.com/pytorch/pytorch/blob/main/SECURITY.md#untrusted-models for more details). In a future release, the default value for `weights_only` will be flipped to `True`. This limits the functions that could be executed during unpickling. Arbitrary objects will no longer be allowed to be loaded via this mode unless they are explicitly allowlisted by the user via `torch.serialization.add_safe_globals`. We recommend you start setting `weights_only=True` for any use case where you don't have full control of the loaded file. Please open an issue on GitHub for any issues related to this experimental feature.\n",
      "  gas_train_indices = torch.load(os.path.join(gas_split_dir, \"train_indices.pt\"))\n",
      "/tmp/ipykernel_3386893/449618677.py:6: FutureWarning: You are using `torch.load` with `weights_only=False` (the current default value), which uses the default pickle module implicitly. It is possible to construct malicious pickle data which will execute arbitrary code during unpickling (See https://github.com/pytorch/pytorch/blob/main/SECURITY.md#untrusted-models for more details). In a future release, the default value for `weights_only` will be flipped to `True`. This limits the functions that could be executed during unpickling. Arbitrary objects will no longer be allowed to be loaded via this mode unless they are explicitly allowlisted by the user via `torch.serialization.add_safe_globals`. We recommend you start setting `weights_only=True` for any use case where you don't have full control of the loaded file. Please open an issue on GitHub for any issues related to this experimental feature.\n",
      "  gas_val_indices = torch.load(os.path.join(gas_split_dir, \"val_indices.pt\"))\n",
      "/tmp/ipykernel_3386893/449618677.py:7: FutureWarning: You are using `torch.load` with `weights_only=False` (the current default value), which uses the default pickle module implicitly. It is possible to construct malicious pickle data which will execute arbitrary code during unpickling (See https://github.com/pytorch/pytorch/blob/main/SECURITY.md#untrusted-models for more details). In a future release, the default value for `weights_only` will be flipped to `True`. This limits the functions that could be executed during unpickling. Arbitrary objects will no longer be allowed to be loaded via this mode unless they are explicitly allowlisted by the user via `torch.serialization.add_safe_globals`. We recommend you start setting `weights_only=True` for any use case where you don't have full control of the loaded file. Please open an issue on GitHub for any issues related to this experimental feature.\n",
      "  gas_test_indices = torch.load(os.path.join(gas_split_dir, \"test_indices.pt\"))\n"
     ]
    }
   ],
   "source": [
    "from torch.utils.data import Subset\n",
    "\n",
    "gas_split_dir = os.path.join(dir, \"gas_649_max_sigma5_int\", \"split\")\n",
    "\n",
    "gas_train_indices = torch.load(os.path.join(gas_split_dir, \"train_indices.pt\"))\n",
    "gas_val_indices = torch.load(os.path.join(gas_split_dir, \"val_indices.pt\"))\n",
    "gas_test_indices = torch.load(os.path.join(gas_split_dir, \"test_indices.pt\"))\n",
    "\n",
    "gas_train_graphs = Subset(gas_graphs, gas_train_indices)\n",
    "gas_val_graphs = Subset(gas_graphs, gas_val_indices)\n",
    "gas_test_graphs = Subset(gas_graphs, gas_test_indices)"
   ]
  },
  {
   "cell_type": "code",
   "execution_count": 21,
   "metadata": {},
   "outputs": [
    {
     "name": "stdout",
     "output_type": "stream",
     "text": [
      "649\n",
      "454\n",
      "97\n",
      "98\n"
     ]
    }
   ],
   "source": [
    "print(len(gas_graphs))\n",
    "print(len(gas_train_graphs))\n",
    "print(len(gas_val_graphs))\n",
    "print(len(gas_test_graphs))"
   ]
  },
  {
   "cell_type": "code",
   "execution_count": 22,
   "metadata": {},
   "outputs": [
    {
     "data": {
      "text/plain": [
       "631"
      ]
     },
     "execution_count": 22,
     "metadata": {},
     "output_type": "execute_result"
    }
   ],
   "source": [
    "len(liquid_graphs)"
   ]
  },
  {
   "cell_type": "code",
   "execution_count": null,
   "metadata": {},
   "outputs": [],
   "source": [
    "gas_train_smiles = [gas_graphs[i].smiles for i in gas_train_indices]\n",
    "gas_val_smiles = [gas_graphs[i].smiles for i in gas_val_indices]\n",
    "gas_test_smiles = [gas_graphs[i].smiles for i in gas_test_indices]\n"
   ]
  },
  {
   "cell_type": "code",
   "execution_count": 28,
   "metadata": {},
   "outputs": [
    {
     "name": "stdout",
     "output_type": "stream",
     "text": [
      "Liquid datasets:\n",
      "Train: 441/454 matching SMILES\n",
      "Val: 94/97 matching SMILES\n",
      "Test: 96/98 matching SMILES\n"
     ]
    }
   ],
   "source": [
    "# Create a mapping from SMILES to indices in liquid_graphs\n",
    "liquid_smiles_to_idx = {graph.smiles: idx for idx, graph in enumerate(liquid_graphs)}\n",
    "\n",
    "# Find indices for liquid datasets that match the gas SMILES\n",
    "liquid_train_indices = []\n",
    "liquid_val_indices = []\n",
    "liquid_test_indices = []\n",
    "\n",
    "# Populate train indices\n",
    "for smiles in gas_train_smiles:\n",
    "    if smiles in liquid_smiles_to_idx:\n",
    "        liquid_train_indices.append(liquid_smiles_to_idx[smiles])\n",
    "\n",
    "# Populate validation indices\n",
    "for smiles in gas_val_smiles:\n",
    "    if smiles in liquid_smiles_to_idx:\n",
    "        liquid_val_indices.append(liquid_smiles_to_idx[smiles])\n",
    "\n",
    "# Populate test indices\n",
    "for smiles in gas_test_smiles:\n",
    "    if smiles in liquid_smiles_to_idx:\n",
    "        liquid_test_indices.append(liquid_smiles_to_idx[smiles])\n",
    "\n",
    "# Convert to tensors to match the format of the gas indices\n",
    "liquid_train_indices = torch.tensor(liquid_train_indices)\n",
    "liquid_val_indices = torch.tensor(liquid_val_indices)\n",
    "liquid_test_indices = torch.tensor(liquid_test_indices)\n",
    "\n",
    "# Create subsets for liquid datasets\n",
    "liquid_train_graphs = Subset(liquid_graphs, liquid_train_indices)\n",
    "liquid_val_graphs = Subset(liquid_graphs, liquid_val_indices)\n",
    "liquid_test_graphs = Subset(liquid_graphs, liquid_test_indices)\n",
    "\n",
    "# Print sizes to verify\n",
    "print(\"Liquid datasets:\")\n",
    "print(f\"Train: {len(liquid_train_graphs)}/{len(gas_train_graphs)} matching SMILES\")\n",
    "print(f\"Val: {len(liquid_val_graphs)}/{len(gas_val_graphs)} matching SMILES\")\n",
    "print(f\"Test: {len(liquid_test_graphs)}/{len(gas_test_graphs)} matching SMILES\")\n"
   ]
  },
  {
   "cell_type": "code",
   "execution_count": 31,
   "metadata": {},
   "outputs": [],
   "source": [
    "os.makedirs(os.path.join(dir, \"liquid_649_max_sigma5_int\", \"split\"), exist_ok=True)\n",
    "torch.save(liquid_train_indices, os.path.join(dir, \"liquid_649_max_sigma5_int\", \"split\", \"train_indices.pt\"))\n",
    "torch.save(liquid_val_indices, os.path.join(dir, \"liquid_649_max_sigma5_int\", \"split\", \"val_indices.pt\"))\n",
    "torch.save(liquid_test_indices, os.path.join(dir, \"liquid_649_max_sigma5_int\", \"split\", \"test_indices.pt\"))\n",
    "\n",
    "\n",
    "\n"
   ]
  },
  {
   "cell_type": "code",
   "execution_count": null,
   "metadata": {},
   "outputs": [],
   "source": []
  }
 ],
 "metadata": {
  "kernelspec": {
   "display_name": ".venv",
   "language": "python",
   "name": "python3"
  },
  "language_info": {
   "codemirror_mode": {
    "name": "ipython",
    "version": 3
   },
   "file_extension": ".py",
   "mimetype": "text/x-python",
   "name": "python",
   "nbconvert_exporter": "python",
   "pygments_lexer": "ipython3",
   "version": "3.9.19"
  }
 },
 "nbformat": 4,
 "nbformat_minor": 2
}
